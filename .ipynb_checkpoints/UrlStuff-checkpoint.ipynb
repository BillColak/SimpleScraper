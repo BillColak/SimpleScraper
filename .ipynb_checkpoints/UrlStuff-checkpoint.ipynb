{
 "cells": [
  {
   "cell_type": "code",
   "execution_count": 2,
   "metadata": {},
   "outputs": [],
   "source": [
    "import requests\n",
    "from lxml import html as lxml_html\n",
    "\n",
    "# //a[normalize-space(@class)='result-title hdrlnk']/@href\n",
    "\n",
    "header = {'User-agent': 'Mozilla/5.0 (Windows NT 10.0; Win64; x64) AppleWebKit/537.36 (KHTML, like Gecko) '\n",
    "                        'Chrome/85.0.4183.121 Safari/537.36'}\n",
    "\n",
    "url_name = 'https://vancouver.craigslist.org/search/cto'\n",
    "# url_name = 'https://www.kijiji.ca/b-cars-trucks/calgary/new__used/c174l1700199a49'\n",
    "item_path = '/html/body/section/form/div[4]/ul/li[1]/div/h2/a'\n",
    "# item_path = '/html/body/div[3]/div[3]/div[3]/div[3]/div[3]/div[4]/div[1]/div[2]/div/div[2]/a'\n",
    "next_page_xpath = '/html/body/section/form/div[3]/div[3]/span[2]/a[3]'\n",
    "# next_page_xpath = '/html/body/div[3]/div[3]/div[3]/div[3]/div[3]/div[57]/div/a[10]'"
   ]
  },
  {
   "cell_type": "code",
   "execution_count": 3,
   "metadata": {},
   "outputs": [],
   "source": [
    "resp = requests.get(url=url_name, headers=header)\n",
    "def xpath_root(page_source) -> lxml_html.HtmlElement:\n",
    "    return lxml_html.fromstring(html=page_source)\n",
    "\n",
    "el_src = xpath_root(resp.content)"
   ]
  },
  {
   "cell_type": "code",
   "execution_count": 4,
   "metadata": {},
   "outputs": [],
   "source": [
    "def return_element_list_by_xpath(element_source: lxml_html.HtmlElement, xpath_expression: str, attribute=None) -> list:\n",
    "    expression_list = []\n",
    "\n",
    "    if attribute is not None:  # get the attribute of the element: used for multi-items\n",
    "        # (class attribute is used for multi item atm...)\n",
    "        xpath_expression = xpath_expression + attribute\n",
    "\n",
    "    expression = element_source.xpath(xpath_expression)\n",
    "    for item in expression:\n",
    "        if isinstance(item, lxml_html.HtmlElement):\n",
    "            expression_list.append(str(lxml_html.tostring(item, pretty_print=True, with_tail=False), 'utf-8'))\n",
    "        else:\n",
    "            expression_list.append(item)\n",
    "    return expression_list"
   ]
  },
  {
   "cell_type": "code",
   "execution_count": 5,
   "metadata": {},
   "outputs": [
    {
     "data": {
      "text/plain": [
       "\"//a[normalize-space(@class)='title']/text()\""
      ]
     },
     "execution_count": 5,
     "metadata": {},
     "output_type": "execute_result"
    }
   ],
   "source": [
    "# //a[normalize-space(@class)='result-title hdrlnk']/@href\n",
    "# //div/h2/a[@class='result-title hdrlnk']\n",
    "def xpath_intellisense(tag, class_text, attrib):\n",
    "    return f\"//{tag}[normalize-space(@class)='{class_text}']/{attrib}\"\n",
    "\n",
    "# attrib = '@href'\n",
    "attrib = 'text()'\n",
    "tag = 'a'\n",
    "# class_text = 'result-title hdrlnk'\n",
    "class_text = 'title'\n",
    "\n",
    "intel_xpath = xpath_intellisense(tag,class_text,attrib)\n",
    "intel_xpath  # can just use this if the full xpath doesn't work?"
   ]
  },
  {
   "cell_type": "code",
   "execution_count": 6,
   "metadata": {},
   "outputs": [
    {
     "name": "stdout",
     "output_type": "stream",
     "text": [
      "['result-title hdrlnk']\n"
     ]
    }
   ],
   "source": [
    "item_class = return_element_list_by_xpath(el_src, item_path, attribute='//@class')\n",
    "# item_href = return_element_list_by_xpath(el_src, item_path, attribute='//@href')\n",
    "# item_text = return_element_list_by_xpath(el_src, item_path, attribute='/text()')\n",
    "\n",
    "\n",
    "print(item_class)"
   ]
  },
  {
   "cell_type": "code",
   "execution_count": 7,
   "metadata": {},
   "outputs": [
    {
     "data": {
      "text/plain": [
       "[]"
      ]
     },
     "execution_count": 7,
     "metadata": {},
     "output_type": "execute_result"
    }
   ],
   "source": [
    "# return_element_list_by_xpath(element_source, intel_xpath)\n",
    "x = el_src.xpath(intel_xpath)\n",
    "# print(len(x))\n",
    "x"
   ]
  },
  {
   "cell_type": "code",
   "execution_count": 8,
   "metadata": {},
   "outputs": [],
   "source": [
    "def single_item(level, class_text, attrib, path_item):\n",
    "    path_item = str(path_item).split('/')\n",
    "    if int(level)>0:\n",
    "        depth = \"/\".join(path_item[int(level):])\n",
    "        return \"//\" + depth + f\"[normalize-space(@class)='{class_text}']/{attrib}\""
   ]
  },
  {
   "cell_type": "code",
   "execution_count": 9,
   "metadata": {},
   "outputs": [
    {
     "name": "stdout",
     "output_type": "stream",
     "text": [
      "//ul/li[1]/div/h2/a[normalize-space(@class)='result-title hdrlnk']/text() 2009 Dodge Grand caravan\n"
     ]
    }
   ],
   "source": [
    "single_text_item_xpath = single_item(6, item_class[0], 'text()', item_path)\n",
    "single_text_item = el_src.xpath(single_text_item_xpath)\n",
    "print(single_text_item_xpath, single_text_item[0].strip())"
   ]
  },
  {
   "cell_type": "code",
   "execution_count": 10,
   "metadata": {},
   "outputs": [
    {
     "name": "stdout",
     "output_type": "stream",
     "text": [
      "//div[3]/span[2]/a[3][normalize-space(@class)='button next']/@href ['/search/cto?s=120', '/search/cto?s=120']\n"
     ]
    }
   ],
   "source": [
    "# next_page_xpath = '/html/body/section/form/div[3]/div[3]/span[2]/a[3]'\n",
    "next_page_path = single_item(6, 'button next', '@href', next_page_xpath)\n",
    "next_page = el_src.xpath(next_page_path)\n",
    "print(next_page_path, next_page)"
   ]
  },
  {
   "cell_type": "code",
   "execution_count": 11,
   "metadata": {},
   "outputs": [
    {
     "name": "stdout",
     "output_type": "stream",
     "text": [
      "https://vancouver.craigslist.org/search/cto?s=120\n"
     ]
    }
   ],
   "source": [
    "from urllib.parse import urlparse, urljoin, urlsplit   # NOTE: this might not work for kijiji\n",
    "\n",
    "url = urlsplit(url_name).geturl()\n",
    "# url = urlparse(url_name).netloc\n",
    "scheme = urlparse(url_name).scheme\n",
    "# next_page_url = urljoin('https://www.kijiji.ca/', url=next_page[0])\n",
    "next_page_url = urljoin(base=url, url=next_page[0])\n",
    "print(next_page_url)"
   ]
  },
  {
   "cell_type": "code",
   "execution_count": null,
   "metadata": {},
   "outputs": [],
   "source": [
    "# elements = {'href': 'https://vancouver.craigslist.org/van/cto/d/chilliwack-west-2016-mustang-gt/7212395577.html', 'data-id': '7212395577', 'class': 'result-title hdrlnk', 'id': 'postid_7212395577'}\n",
    "# ['href', 'data-id', 'class', 'id'] ['https://vancouver.craigslist.org/van/cto/d/chilliwack-west-2016-mustang-gt/7212395577.html', '7212395577', 'result-title hdrlnk', 'postid_7212395577']"
   ]
  },
  {
   "cell_type": "code",
   "execution_count": null,
   "metadata": {},
   "outputs": [],
   "source": [
    "# elements = {'href': 'https://vancouver.craigslist.org/van/cto/d/chilliwack-west-2016-mustang-gt/7212395577.html', 'data-id': '7212395577', 'class': 'result-title hdrlnk', 'id': 'postid_7212395577'}\n",
    "# def xpath_builder(level, class_text, attrib, path_item, elements):\n",
    "#     path_item = str(path_item).split('/')\n",
    "#     if int(level)>0:\n",
    "#         depth = \"/\".join(path_item[int(level):])\n",
    "#         for k,v in elements.items():\n",
    "#             depth += f'normalize-space(@{k})=\"{v}\"'\n",
    "#         return f'//{depth}[{}]'\n",
    "# #         return \"//\" + depth + f\"[normalize-space(@class)='{class_text}']/{attrib}\"\n",
    "# print(xpath_builder(6, 'button next', '@href', next_page_xpath, elements))"
   ]
  },
  {
   "cell_type": "code",
   "execution_count": null,
   "metadata": {},
   "outputs": [],
   "source": []
  }
 ],
 "metadata": {
  "kernelspec": {
   "display_name": "Python 3",
   "language": "python",
   "name": "python3"
  },
  "language_info": {
   "codemirror_mode": {
    "name": "ipython",
    "version": 3
   },
   "file_extension": ".py",
   "mimetype": "text/x-python",
   "name": "python",
   "nbconvert_exporter": "python",
   "pygments_lexer": "ipython3",
   "version": "3.8.2"
  }
 },
 "nbformat": 4,
 "nbformat_minor": 4
}
